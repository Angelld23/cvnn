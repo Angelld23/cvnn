{
 "cells": [
  {
   "cell_type": "markdown",
   "metadata": {},
   "source": [
    "# MVN activation function\n",
    "\n",
    "This code explains the logic of mvn activation function for an easy understanding.\n",
    "\n",
    "For further information refer to the original papers of Naum Aizenberg:\n",
    " - [Multivalued threshold functions](https://link.springer.com/article/10.1007%2FBF01068667)\n",
    " - [A GENERALIZATION OF THE THRESHOLD FUNCTIONS](https://www.jstor.org/stable/43667575?casa_token=QrhCiytSlCUAAAAA%3ARRwNRt0TRmfddbOwMP_Si5cqYg6FzCa44WtvX2Ac2yPK_xkA6n2ycfuyLzvWvKFdh-L9JfShlDV6elRcjgtiuDgfKEKFOfA6fqxCIUX5r9SG4Ou7hETN&seq=1#metadata_info_tab_contents)\n",
    " \n",
    "According to these works: \n",
    "*A multi-valued neuron (MVN) is a neural element with n inputs and one output lying on the unit circle, and with complex-valued weights.*"
   ]
  },
  {
   "cell_type": "code",
   "execution_count": 13,
   "metadata": {},
   "outputs": [],
   "source": [
    "# We first import everything\n",
    "import matplotlib.pyplot as plt\n",
    "from cvnn.activations import mvn_activation\n",
    "import tensorflow as tf\n",
    "import numpy as np"
   ]
  },
  {
   "cell_type": "markdown",
   "metadata": {},
   "source": [
    "For a start we will create complex valued points to use as an example."
   ]
  },
  {
   "cell_type": "code",
   "execution_count": 16,
   "metadata": {},
   "outputs": [],
   "source": [
    "x = tf.constant([-2, 1.0, 0.0, 1.0, -3], dtype=tf.float32)\n",
    "y = tf.constant([-2.5, -1.5, 0.0, 1.0, 2], dtype=tf.float32)\n",
    "z = tf.complex(x, y)\n",
    "result = mvn_activation(z)"
   ]
  },
  {
   "cell_type": "markdown",
   "metadata": {},
   "source": [
    "MVN function divides the phase into `k` sections and cast the input phase to the closest of those k values while also fizing the amplitude to 1.\n",
    "\n",
    "The equation would be\n",
    "\n",
    "$$\n",
    "f(z) = \\exp^{\\frac{i 2 \\pi a}{ k } }\n",
    "$$\n",
    "\n",
    "with $a$ so that $$\\frac{i 2 \\pi a}{ k }  \\leq arg(z) \\le \\frac{i 2 \\pi (a+1)}{ k } $$"
   ]
  },
  {
   "cell_type": "code",
   "execution_count": 19,
   "metadata": {},
   "outputs": [
    {
     "data": {
      "image/png": "[encoded data removed]",
      "text/plain": [
       "<Figure size 432x288 with 1 Axes>"
      ]
     },
     "metadata": {},
     "output_type": "display_data"
    }
   ],
   "source": [
    "k = 3\n",
    "result = mvn_activation(z, k=k)\n",
    "# cnums = np.arange(5) + 1j * np.arange(6, 11)]\n",
    "ax = plt.axes()\n",
    "ax.scatter(tf.math.real(z), tf.math.imag(z), color='red')\n",
    "ax.scatter(tf.math.real(result), tf.math.imag(result), color='blue')\n",
    "\n",
    "# Plot arrows of the mapping road\n",
    "for x, y, dx, dy in zip(tf.math.real(z), tf.math.imag(z),\n",
    "                        tf.math.real(result) - tf.math.real(z),\n",
    "                        tf.math.imag(result) - tf.math.imag(z)):\n",
    "    ax.arrow(x, y, dx, dy, length_includes_head=True, head_width=0.1)\n",
    "# PLot unit circle\n",
    "t = np.linspace(0, np.pi * 2, 100)\n",
    "ax.plot(np.cos(t), np.sin(t), linewidth=1)\n",
    "\n",
    "yabs_max = abs(max(ax.get_ylim(), key=abs))\n",
    "xabs_max = abs(max(ax.get_xlim(), key=abs))\n",
    "axis_max = max(yabs_max, xabs_max)\n",
    "\n",
    "# Divide map on the different zones\n",
    "ax.pie(np.ones(k) / k, radius=4, wedgeprops={'alpha': 0.3})\n",
    "\n",
    "ax.set_ylim(ymin=-axis_max, ymax=axis_max)\n",
    "ax.set_xlim(xmin=-axis_max, xmax=axis_max)\n",
    "plt.show()"
   ]
  },
  {
   "cell_type": "markdown",
   "metadata": {},
   "source": [
    "## Continous values\n",
    "\n",
    "If `k` is not given, it will use $k \\to \\infty$ making it an equivalence of just mapping the input to the unitary circle (keeps the phase but changes the amplitude to 1).\n",
    "This is mathematically $$ f(z) = \\exp^{i arg(z)} .$$\n",
    "\n",
    "For $z \\neq 0$ this is also $$ f(z) = \\frac{z}{|z|} .$$"
   ]
  },
  {
   "cell_type": "code",
   "execution_count": 12,
   "metadata": {},
   "outputs": [
    {
     "data": {
      "text/plain": [
       "(-5.450285282272716, 5.450285282272716)"
      ]
     },
     "execution_count": 12,
     "metadata": {},
     "output_type": "execute_result"
    },
    {
     "data": {
      "image/png": "[encoded data removed]",
      "text/plain": [
       "<Figure size 432x288 with 1 Axes>"
      ]
     },
     "metadata": {
      "needs_background": "light"
     },
     "output_type": "display_data"
    }
   ],
   "source": [
    "ax = plt.axes()\n",
    "ax.scatter(tf.math.real(z), tf.math.imag(z), color='red')\n",
    "ax.scatter(tf.math.real(result), tf.math.imag(result), color='blue')\n",
    "for x, y, dx, dy in zip(tf.math.real(z), tf.math.imag(z),\n",
    "                        tf.math.real(result) - tf.math.real(z),\n",
    "                        tf.math.imag(result) - tf.math.imag(z)):\n",
    "    ax.arrow(x, y, dx, dy, length_includes_head=True, head_width=0.1)\n",
    "t = np.linspace(0,np.pi*2,100)\n",
    "ax.plot(np.cos(t), np.sin(t), linewidth=1)\n",
    "\n",
    "yabs_max = abs(max(ax.get_ylim(), key=abs))\n",
    "xabs_max = abs(max(ax.get_xlim(), key=abs))\n",
    "axis_max = max(yabs_max, xabs_max)\n",
    "\n",
    "ax.set_ylim(ymin=-axis_max, ymax=axis_max)\n",
    "ax.set_xlim(xmin=-axis_max, xmax=axis_max)"
   ]
  },
  {
   "cell_type": "code",
   "execution_count": null,
   "metadata": {},
   "outputs": [],
   "source": []
  }
 ],
 "metadata": {
  "kernelspec": {
   "display_name": "Python 3",
   "language": "python",
   "name": "python3"
  },
  "language_info": {
   "codemirror_mode": {
    "name": "ipython",
    "version": 3
   },
   "file_extension": ".py",
   "mimetype": "text/x-python",
   "name": "python",
   "nbconvert_exporter": "python",
   "pygments_lexer": "ipython3",
   "version": "3.8.8"
  }
 },
 "nbformat": 4,
 "nbformat_minor": 1
}
