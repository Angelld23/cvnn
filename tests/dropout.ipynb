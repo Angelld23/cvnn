{
 "cells": [
  {
   "cell_type": "markdown",
   "metadata": {},
   "source": [
    "# Dataset"
   ]
  },
  {
   "cell_type": "code",
   "execution_count": 1,
   "metadata": {},
   "outputs": [],
   "source": [
    "import tensorflow_datasets as tfds\n",
    "import tensorflow as tf\n",
    "import numpy as np"
   ]
  },
  {
   "cell_type": "code",
   "execution_count": 2,
   "metadata": {},
   "outputs": [],
   "source": [
    "\n",
    "def normalize_img(image, label):\n",
    "    \"\"\"Normalizes images: `uint8` -> `float32`.\"\"\"\n",
    "    return tf.cast(image, tf.float32) / 255., label\n",
    "\n",
    "\n",
    "def get_dataset():\n",
    "    (ds_train, ds_test), ds_info = tfds.load(\n",
    "        'mnist',\n",
    "        split=['train', 'test'],\n",
    "        shuffle_files=False,\n",
    "        as_supervised=True,\n",
    "        with_info=True,\n",
    "    )\n",
    "\n",
    "    ds_train = ds_train.map(normalize_img, num_parallel_calls=tf.data.experimental.AUTOTUNE)\n",
    "    ds_train = ds_train.cache()\n",
    "    # ds_train = ds_train.shuffle(ds_info.splits['train'].num_examples)\n",
    "    ds_train = ds_train.batch(128)\n",
    "    ds_train = ds_train.prefetch(tf.data.experimental.AUTOTUNE)\n",
    "\n",
    "    ds_test = ds_test.map(normalize_img, num_parallel_calls=tf.data.experimental.AUTOTUNE)\n",
    "    ds_test = ds_test.batch(128)\n",
    "    ds_test = ds_test.cache()\n",
    "    ds_test = ds_test.prefetch(tf.data.experimental.AUTOTUNE)\n",
    "\n",
    "    return ds_train, ds_test\n",
    "\n",
    "\n",
    "def convert_to_numpy(ds):\n",
    "    ds_numpy = tfds.as_numpy(ds)\n",
    "    train_images = None\n",
    "    train_labels = None\n",
    "    for ex in ds_numpy:\n",
    "        if train_images is None:\n",
    "            train_images = ex[0]\n",
    "            train_labels = ex[1]\n",
    "        else:\n",
    "            train_images = np.concatenate((train_images, ex[0]), axis=0)\n",
    "            train_labels = np.concatenate((train_labels, ex[1]), axis=0)\n",
    "    return train_images, train_labels\n"
   ]
  },
  {
   "cell_type": "code",
   "execution_count": 3,
   "metadata": {},
   "outputs": [
    {
     "name": "stderr",
     "output_type": "stream",
     "text": [
      "2021-09-17 14:16:35.136036: I tensorflow/stream_executor/cuda/cuda_gpu_executor.cc:937] successful NUMA node read from SysFS had negative value (-1), but there must be at least one NUMA node, so returning NUMA node zero\n",
      "2021-09-17 14:16:35.137931: W tensorflow/stream_executor/platform/default/dso_loader.cc:64] Could not load dynamic library 'libcufft.so.10'; dlerror: libcufft.so.10: cannot open shared object file: No such file or directory\n",
      "2021-09-17 14:16:35.137968: W tensorflow/stream_executor/platform/default/dso_loader.cc:64] Could not load dynamic library 'libcurand.so.10'; dlerror: libcurand.so.10: cannot open shared object file: No such file or directory\n",
      "2021-09-17 14:16:35.138002: W tensorflow/stream_executor/platform/default/dso_loader.cc:64] Could not load dynamic library 'libcusolver.so.11'; dlerror: libcusolver.so.11: cannot open shared object file: No such file or directory\n",
      "2021-09-17 14:16:35.138034: W tensorflow/stream_executor/platform/default/dso_loader.cc:64] Could not load dynamic library 'libcusparse.so.11'; dlerror: libcusparse.so.11: cannot open shared object file: No such file or directory\n",
      "2021-09-17 14:16:35.138115: W tensorflow/core/common_runtime/gpu/gpu_device.cc:1835] Cannot dlopen some GPU libraries. Please make sure the missing libraries mentioned above are installed properly if you would like to use GPU. Follow the guide at https://www.tensorflow.org/install/gpu for how to download and setup the required libraries for your platform.\n",
      "Skipping registering GPU devices...\n",
      "2021-09-17 14:16:35.174488: I tensorflow/core/platform/cpu_feature_guard.cc:142] This TensorFlow binary is optimized with oneAPI Deep Neural Network Library (oneDNN) to use the following CPU instructions in performance-critical operations:  AVX2 FMA\n",
      "To enable them in other operations, rebuild TensorFlow with the appropriate compiler flags.\n",
      "2021-09-17 14:16:35.257214: I tensorflow/compiler/mlir/mlir_graph_optimization_pass.cc:185] None of the MLIR Optimization Passes are enabled (registered 2)\n"
     ]
    }
   ],
   "source": [
    "ds_train, ds_test = get_dataset()\n",
    "train_images, train_labels = convert_to_numpy(ds_train)\n",
    "test_images, test_labels = convert_to_numpy(ds_test)"
   ]
  },
  {
   "cell_type": "markdown",
   "metadata": {},
   "source": [
    "## Models"
   ]
  },
  {
   "cell_type": "code",
   "execution_count": 4,
   "metadata": {},
   "outputs": [],
   "source": [
    "import cvnn.layers as complex_layers\n",
    "\n",
    "def get_real_mnist_model(dropout=True):\n",
    "    tf.random.set_seed(0)\n",
    "    in1 = tf.keras.layers.Input(shape=(28, 28, 1))\n",
    "    flat = tf.keras.layers.Flatten(input_shape=(28, 28, 1))(in1)\n",
    "    dense = tf.keras.layers.Dense(128, activation='cart_relu')(flat)\n",
    "    if dropout:\n",
    "        dense = tf.keras.layers.Dropout(rate=0.5, seed=116)(dense)\n",
    "    out = tf.keras.layers.Dense(10, activation='softmax_real_with_abs', kernel_initializer=\"ComplexGlorotUniform\")(dense)\n",
    "    real_model = tf.keras.Model(in1, out)\n",
    "    real_model.compile(\n",
    "        loss='sparse_categorical_crossentropy',\n",
    "        optimizer=tf.keras.optimizers.Adam(0.001),\n",
    "        metrics=['accuracy'],\n",
    "    )\n",
    "    return real_model\n",
    "\n",
    "\n",
    "def get_complex_mnist_model(dropout=True):\n",
    "    tf.random.set_seed(0)\n",
    "    inputs = complex_layers.complex_input(shape=(28, 28, 1), dtype=np.float32)\n",
    "    flat = complex_layers.ComplexFlatten(input_shape=(28, 28, 1), dtype=np.float32)(inputs)\n",
    "    dense = complex_layers.ComplexDense(128, activation='cart_relu', dtype=np.float32)(flat)\n",
    "    if dropout:\n",
    "        dense = complex_layers.ComplexDropout(rate=0.5, seed=116)(dense)\n",
    "    out = complex_layers.ComplexDense(10, activation='softmax_real_with_abs', dtype=np.float32)(dense)\n",
    "    complex_model = tf.keras.Model(inputs, out)\n",
    "    complex_model.compile(\n",
    "        loss='sparse_categorical_crossentropy',\n",
    "        optimizer=tf.keras.optimizers.Adam(0.001),\n",
    "        metrics=['accuracy'],\n",
    "    )\n",
    "    return complex_model"
   ]
  },
  {
   "cell_type": "markdown",
   "metadata": {},
   "source": [
    "## Using two real models"
   ]
  },
  {
   "cell_type": "code",
   "execution_count": 5,
   "metadata": {},
   "outputs": [],
   "source": [
    "# Using numpy arrays\n",
    "\n",
    "complex_model = get_real_mnist_model()\n",
    "real_model = get_real_mnist_model()\n",
    "\n",
    "r_history = real_model.fit(train_images, train_labels, epochs=6, validation_data=(test_images, test_labels),\n",
    "                           verbose=False, shuffle=False)\n",
    "c_history = complex_model.fit(train_images, train_labels, epochs=6, validation_data=(test_images, test_labels),\n",
    "                              verbose=False, shuffle=False)\n",
    "assert r_history.history == c_history.history, f\"{r_history.history} != {c_history.history}\""
   ]
  },
  {
   "cell_type": "code",
   "execution_count": 6,
   "metadata": {},
   "outputs": [],
   "source": [
    "# Using tf dataset\n",
    "\n",
    "complex_model = get_real_mnist_model()\n",
    "real_model = get_real_mnist_model()\n",
    "r_history = real_model.fit(ds_train, epochs=6, validation_data=ds_test,\n",
    "                           verbose=False, shuffle=False)\n",
    "c_history = complex_model.fit(ds_train, epochs=6, validation_data=ds_test,\n",
    "                              verbose=False, shuffle=False)\n",
    "assert r_history.history == c_history.history, f\"{r_history.history} != {c_history.history}\""
   ]
  },
  {
   "cell_type": "markdown",
   "metadata": {},
   "source": [
    "## Using the cvnn"
   ]
  },
  {
   "cell_type": "code",
   "execution_count": 7,
   "metadata": {},
   "outputs": [],
   "source": [
    "# Using numpy arrays\n",
    "\n",
    "complex_model = get_complex_mnist_model()\n",
    "real_model = get_real_mnist_model()\n",
    "\n",
    "r_history = real_model.fit(train_images, train_labels, epochs=6, validation_data=(test_images, test_labels),\n",
    "                           verbose=False, shuffle=False)\n",
    "c_history = complex_model.fit(train_images, train_labels, epochs=6, validation_data=(test_images, test_labels),\n",
    "                              verbose=False, shuffle=False)\n",
    "assert r_history.history == c_history.history, f\"{r_history.history} != {c_history.history}\""
   ]
  },
  {
   "cell_type": "code",
   "execution_count": 8,
   "metadata": {},
   "outputs": [],
   "source": [
    "# Using tf dataset\n",
    "\n",
    "complex_model = get_complex_mnist_model()\n",
    "real_model = get_real_mnist_model()\n",
    "r_history = real_model.fit(ds_train, epochs=6, validation_data=ds_test,\n",
    "                           verbose=False, shuffle=False)\n",
    "c_history = complex_model.fit(ds_train, epochs=6, validation_data=ds_test,\n",
    "                              verbose=False, shuffle=False)\n",
    "assert r_history.history == c_history.history, f\"{r_history.history} != {c_history.history}\""
   ]
  },
  {
   "cell_type": "markdown",
   "metadata": {},
   "source": [
    "## Without dropout"
   ]
  },
  {
   "cell_type": "code",
   "execution_count": 9,
   "metadata": {},
   "outputs": [],
   "source": [
    "complex_model = get_complex_mnist_model(dropout=False)\n",
    "real_model = get_real_mnist_model(dropout=False)\n",
    "r_history = real_model.fit(ds_train, epochs=6, validation_data=ds_test,\n",
    "                           verbose=False, shuffle=False)\n",
    "c_history = complex_model.fit(ds_train, epochs=6, validation_data=ds_test,\n",
    "                              verbose=False, shuffle=False)\n",
    "assert r_history.history == c_history.history, f\"{r_history.history} != {c_history.history}\""
   ]
  },
  {
   "cell_type": "code",
   "execution_count": null,
   "metadata": {},
   "outputs": [],
   "source": []
  }
 ],
 "metadata": {
  "kernelspec": {
   "display_name": "Python 3 (ipykernel)",
   "language": "python",
   "name": "python3"
  },
  "language_info": {
   "codemirror_mode": {
    "name": "ipython",
    "version": 3
   },
   "file_extension": ".py",
   "mimetype": "text/x-python",
   "name": "python",
   "nbconvert_exporter": "python",
   "pygments_lexer": "ipython3",
   "version": "3.9.6"
  }
 },
 "nbformat": 4,
 "nbformat_minor": 4
}
