{
 "cells": [
  {
   "cell_type": "markdown",
   "metadata": {},
   "source": [
    "# Categorical Crossentropy Test"
   ]
  },
  {
   "cell_type": "code",
   "execution_count": 2,
   "metadata": {},
   "outputs": [],
   "source": [
    "import tensorflow as tf\n",
    "\n",
    "assert tf.executing_eagerly()"
   ]
  },
  {
   "cell_type": "code",
   "execution_count": 15,
   "metadata": {},
   "outputs": [],
   "source": [
    "y = tf.constant([[1., 0., 0., 0., 0.],\n",
    "       [1., 0., 0., 0., 0.],\n",
    "       [0., 0., 0., 0., 1.],\n",
    "       [0., 0., 1., 0., 0.],\n",
    "       [1., 0., 0., 0., 0.],\n",
    "       [1., 0., 0., 0., 0.]])"
   ]
  },
  {
   "cell_type": "code",
   "execution_count": 16,
   "metadata": {},
   "outputs": [],
   "source": [
    "y_out = tf.constant([[0.29306632, 0.12683341, 0.23659508, 0.3048356 , 0.03866955],\n",
    "       [0.29306632, 0.12683341, 0.23659508, 0.3048356 , 0.03866955],\n",
    "       [0.02576115, 0.18275638, 0.04128503, 0.02768068, 0.72251683],\n",
    "       [0.26704115, 0.16870402, 0.23757927, 0.27100047, 0.05567515],\n",
    "       [0.29306632, 0.12683341, 0.23659508, 0.3048356 , 0.03866955],\n",
    "       [0.29306632, 0.12683341, 0.23659508, 0.3048356 , 0.03866955]])"
   ]
  },
  {
   "cell_type": "code",
   "execution_count": 17,
   "metadata": {},
   "outputs": [
    {
     "name": "stdout",
     "output_type": "stream",
     "text": [
      "tf.Tensor(\n",
      "[[1.2273563  0.         0.         0.         0.        ]\n",
      " [1.2273563  0.         0.         0.         0.        ]\n",
      " [0.         0.         0.         0.         0.32501456]\n",
      " [0.         0.         1.437254   0.         0.        ]\n",
      " [1.2273563  0.         0.         0.         0.        ]\n",
      " [1.2273563  0.         0.         0.         0.        ]], shape=(6, 5), dtype=float32)\n"
     ]
    }
   ],
   "source": [
    "y1_error = tf.math.multiply(-y, tf.math.log(y_out))\n",
    "print(y1_error)"
   ]
  },
  {
   "cell_type": "code",
   "execution_count": 18,
   "metadata": {},
   "outputs": [
    {
     "name": "stdout",
     "output_type": "stream",
     "text": [
      "tf.Tensor(\n",
      "[[-0.         -0.13562895 -0.26996672 -0.36360687 -0.03943704]\n",
      " [-0.         -0.13562895 -0.26996672 -0.36360687 -0.03943704]\n",
      " [-0.02609876 -0.20181802 -0.04216147 -0.02807103 -0.        ]\n",
      " [-0.31066573 -0.18476939 -0.         -0.31608224 -0.05728505]\n",
      " [-0.         -0.13562895 -0.26996672 -0.36360687 -0.03943704]\n",
      " [-0.         -0.13562895 -0.26996672 -0.36360687 -0.03943704]], shape=(6, 5), dtype=float32)\n"
     ]
    }
   ],
   "source": [
    "y0_error = tf.math.multiply(1 - y, tf.math.log(1 - y_out))\n",
    "print(y0_error)"
   ]
  },
  {
   "cell_type": "code",
   "execution_count": 28,
   "metadata": {},
   "outputs": [
    {
     "name": "stdout",
     "output_type": "stream",
     "text": [
      "tf.Tensor(\n",
      "[[1.2273563  0.13562895 0.26996672 0.36360687 0.03943704]\n",
      " [1.2273563  0.13562895 0.26996672 0.36360687 0.03943704]\n",
      " [0.02609876 0.20181802 0.04216147 0.02807103 0.32501456]\n",
      " [0.31066573 0.18476939 1.437254   0.31608224 0.05728505]\n",
      " [1.2273563  0.13562895 0.26996672 0.36360687 0.03943704]\n",
      " [1.2273563  0.13562895 0.26996672 0.36360687 0.03943704]], shape=(6, 5), dtype=float32)\n"
     ]
    }
   ],
   "source": [
    "error = tf.math.subtract(y1_error, y0_error)\n",
    "print(error)"
   ]
  },
  {
   "cell_type": "code",
   "execution_count": 30,
   "metadata": {},
   "outputs": [
    {
     "name": "stdout",
     "output_type": "stream",
     "text": [
      "tf.Tensor([2.035996  2.035996  0.6231638 2.3060563 2.035996  2.035996 ], shape=(6,), dtype=float32)\n",
      "2.03599588\n"
     ]
    }
   ],
   "source": [
    "print(tf.keras.backend.sum(error, 1))\n",
    "print(sum([1.2273563,  0.13562895, 0.26996672, 0.36360687, 0.03943704]))"
   ]
  },
  {
   "cell_type": "code",
   "execution_count": 32,
   "metadata": {},
   "outputs": [
    {
     "name": "stdout",
     "output_type": "stream",
     "text": [
      "tf.Tensor(0.3691068, shape=(), dtype=float32)\n",
      "2.03599588\n"
     ]
    }
   ],
   "source": [
    "print(tf.math.reduce_mean(error))\n",
    "print(sum([1.2273563,  0.13562895, 0.26996672, 0.36360687, 0.03943704]))"
   ]
  },
  {
   "cell_type": "code",
   "execution_count": 31,
   "metadata": {},
   "outputs": [
    {
     "data": {
      "text/plain": [
       "'categorical_crossentropy'"
      ]
     },
     "execution_count": 31,
     "metadata": {},
     "output_type": "execute_result"
    }
   ],
   "source": [
    "tf.keras.losses.categorical_crossentropy.__name__"
   ]
  },
  {
   "cell_type": "code",
   "execution_count": null,
   "metadata": {},
   "outputs": [],
   "source": []
  }
 ],
 "metadata": {
  "kernelspec": {
   "display_name": "Python 3",
   "language": "python",
   "name": "python3"
  },
  "language_info": {
   "codemirror_mode": {
    "name": "ipython",
    "version": 3
   },
   "file_extension": ".py",
   "mimetype": "text/x-python",
   "name": "python",
   "nbconvert_exporter": "python",
   "pygments_lexer": "ipython3",
   "version": "3.7.5"
  }
 },
 "nbformat": 4,
 "nbformat_minor": 2
}
